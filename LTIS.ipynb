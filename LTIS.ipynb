{
 "cells": [
  {
   "cell_type": "code",
   "execution_count": 5,
   "id": "7c912098-fc08-4268-9b7d-edd3e43ed0cc",
   "metadata": {},
   "outputs": [],
   "source": [
    "# Long Term Investment Strategy\n",
    "\n",
    "# METHODOLOGY\n",
    "# ===========\n",
    "# Guarantee highest probability of success by identifying most likely winners of each tiers/parameters.\n",
    "# These parameters are:\n",
    "# 1. Country\n",
    "# 2. Industry\n",
    "# 3. Company\n",
    "# 4. Price\n",
    "#\n",
    "# Starting at 1, select 1-5 winners of each category; documenting each step.\n",
    "\n",
    "# EXPECTED BREAKDOWNS\n",
    "# ===================\n",
    "# 1. COUNTRY: (GDP, GDP %, Natural Resources, Politcal Policy)\n",
    "# 2. INDUSTRY: (Highest earners, Strategy of highest earners)\n",
    "# 3. COMPANY: (Ownership, Earnings, EPS, Margin, Debt, Popularity)\n",
    "# 4. PRICE: (Trading Patterns, Volume, Moving Average (50/200), Parabolic SAR, MACD)\n",
    "\n",
    "# DATA SOURCES\n",
    "# ============\n",
    "# The World Bank (https://data.worldbank.org/?most_recent_value_desc=true&type=points) [1, 2]\n",
    "# Yahoo Finance [2, 3]\n",
    "# Simply Wall St [2, 3]\n",
    "# IG [4]\n",
    "# TradingView [4]\n",
    "\n",
    "# PACKAGES\n",
    "# ========\n",
    "import pandas as pd\n",
    "import matplotlib as mtp\n",
    "import seaborn as sb\n",
    "import quandl as ql\n",
    "import zipfile2"
   ]
  },
  {
   "cell_type": "code",
   "execution_count": 8,
   "id": "ca4459d6-1248-4fba-bbc4-99f90a64de5a",
   "metadata": {},
   "outputs": [
    {
     "ename": "ImportError",
     "evalue": "lxml not found, please install or use the etree parser.",
     "output_type": "error",
     "traceback": [
      "\u001b[0;31m---------------------------------------------------------------------------\u001b[0m",
      "\u001b[0;31mImportError\u001b[0m                               Traceback (most recent call last)",
      "Cell \u001b[0;32mIn[8], line 5\u001b[0m\n\u001b[1;32m      2\u001b[0m \u001b[38;5;28;01mwith\u001b[39;00m zipfile2\u001b[38;5;241m.\u001b[39mZipFile(\u001b[38;5;124m\"\u001b[39m\u001b[38;5;124m./datasets/global_gdp\u001b[39m\u001b[38;5;124m\"\u001b[39m, \u001b[38;5;124m'\u001b[39m\u001b[38;5;124mr\u001b[39m\u001b[38;5;124m'\u001b[39m) \u001b[38;5;28;01mas\u001b[39;00m zip_ref:\n\u001b[1;32m      3\u001b[0m     zip_ref\u001b[38;5;241m.\u001b[39mextractall(\u001b[38;5;124m\"\u001b[39m\u001b[38;5;124m./datasets\u001b[39m\u001b[38;5;124m\"\u001b[39m)\n\u001b[0;32m----> 5\u001b[0m df \u001b[38;5;241m=\u001b[39m \u001b[43mpd\u001b[49m\u001b[38;5;241;43m.\u001b[39;49m\u001b[43mread_xml\u001b[49m\u001b[43m(\u001b[49m\u001b[38;5;124;43m\"\u001b[39;49m\u001b[38;5;124;43m./datasets/global_gdp.xml\u001b[39;49m\u001b[38;5;124;43m\"\u001b[39;49m\u001b[43m)\u001b[49m\n",
      "File \u001b[0;32m/nix/store/pv7d7jrpr3d0whjb5ywwwg1bhwav57zv-python3-3.11.6-env/lib/python3.11/site-packages/pandas/io/xml.py:1132\u001b[0m, in \u001b[0;36mread_xml\u001b[0;34m(path_or_buffer, xpath, namespaces, elems_only, attrs_only, names, dtype, converters, parse_dates, encoding, parser, stylesheet, iterparse, compression, storage_options, dtype_backend)\u001b[0m\n\u001b[1;32m    888\u001b[0m \u001b[38;5;250m\u001b[39m\u001b[38;5;124mr\u001b[39m\u001b[38;5;124;03m\"\"\"\u001b[39;00m\n\u001b[1;32m    889\u001b[0m \u001b[38;5;124;03mRead XML document into a :class:`~pandas.DataFrame` object.\u001b[39;00m\n\u001b[1;32m    890\u001b[0m \n\u001b[0;32m   (...)\u001b[0m\n\u001b[1;32m   1128\u001b[0m \u001b[38;5;124;03m2  triangle      180    3.0\u001b[39;00m\n\u001b[1;32m   1129\u001b[0m \u001b[38;5;124;03m\"\"\"\u001b[39;00m\n\u001b[1;32m   1130\u001b[0m check_dtype_backend(dtype_backend)\n\u001b[0;32m-> 1132\u001b[0m \u001b[38;5;28;01mreturn\u001b[39;00m \u001b[43m_parse\u001b[49m\u001b[43m(\u001b[49m\n\u001b[1;32m   1133\u001b[0m \u001b[43m    \u001b[49m\u001b[43mpath_or_buffer\u001b[49m\u001b[38;5;241;43m=\u001b[39;49m\u001b[43mpath_or_buffer\u001b[49m\u001b[43m,\u001b[49m\n\u001b[1;32m   1134\u001b[0m \u001b[43m    \u001b[49m\u001b[43mxpath\u001b[49m\u001b[38;5;241;43m=\u001b[39;49m\u001b[43mxpath\u001b[49m\u001b[43m,\u001b[49m\n\u001b[1;32m   1135\u001b[0m \u001b[43m    \u001b[49m\u001b[43mnamespaces\u001b[49m\u001b[38;5;241;43m=\u001b[39;49m\u001b[43mnamespaces\u001b[49m\u001b[43m,\u001b[49m\n\u001b[1;32m   1136\u001b[0m \u001b[43m    \u001b[49m\u001b[43melems_only\u001b[49m\u001b[38;5;241;43m=\u001b[39;49m\u001b[43melems_only\u001b[49m\u001b[43m,\u001b[49m\n\u001b[1;32m   1137\u001b[0m \u001b[43m    \u001b[49m\u001b[43mattrs_only\u001b[49m\u001b[38;5;241;43m=\u001b[39;49m\u001b[43mattrs_only\u001b[49m\u001b[43m,\u001b[49m\n\u001b[1;32m   1138\u001b[0m \u001b[43m    \u001b[49m\u001b[43mnames\u001b[49m\u001b[38;5;241;43m=\u001b[39;49m\u001b[43mnames\u001b[49m\u001b[43m,\u001b[49m\n\u001b[1;32m   1139\u001b[0m \u001b[43m    \u001b[49m\u001b[43mdtype\u001b[49m\u001b[38;5;241;43m=\u001b[39;49m\u001b[43mdtype\u001b[49m\u001b[43m,\u001b[49m\n\u001b[1;32m   1140\u001b[0m \u001b[43m    \u001b[49m\u001b[43mconverters\u001b[49m\u001b[38;5;241;43m=\u001b[39;49m\u001b[43mconverters\u001b[49m\u001b[43m,\u001b[49m\n\u001b[1;32m   1141\u001b[0m \u001b[43m    \u001b[49m\u001b[43mparse_dates\u001b[49m\u001b[38;5;241;43m=\u001b[39;49m\u001b[43mparse_dates\u001b[49m\u001b[43m,\u001b[49m\n\u001b[1;32m   1142\u001b[0m \u001b[43m    \u001b[49m\u001b[43mencoding\u001b[49m\u001b[38;5;241;43m=\u001b[39;49m\u001b[43mencoding\u001b[49m\u001b[43m,\u001b[49m\n\u001b[1;32m   1143\u001b[0m \u001b[43m    \u001b[49m\u001b[43mparser\u001b[49m\u001b[38;5;241;43m=\u001b[39;49m\u001b[43mparser\u001b[49m\u001b[43m,\u001b[49m\n\u001b[1;32m   1144\u001b[0m \u001b[43m    \u001b[49m\u001b[43mstylesheet\u001b[49m\u001b[38;5;241;43m=\u001b[39;49m\u001b[43mstylesheet\u001b[49m\u001b[43m,\u001b[49m\n\u001b[1;32m   1145\u001b[0m \u001b[43m    \u001b[49m\u001b[43miterparse\u001b[49m\u001b[38;5;241;43m=\u001b[39;49m\u001b[43miterparse\u001b[49m\u001b[43m,\u001b[49m\n\u001b[1;32m   1146\u001b[0m \u001b[43m    \u001b[49m\u001b[43mcompression\u001b[49m\u001b[38;5;241;43m=\u001b[39;49m\u001b[43mcompression\u001b[49m\u001b[43m,\u001b[49m\n\u001b[1;32m   1147\u001b[0m \u001b[43m    \u001b[49m\u001b[43mstorage_options\u001b[49m\u001b[38;5;241;43m=\u001b[39;49m\u001b[43mstorage_options\u001b[49m\u001b[43m,\u001b[49m\n\u001b[1;32m   1148\u001b[0m \u001b[43m    \u001b[49m\u001b[43mdtype_backend\u001b[49m\u001b[38;5;241;43m=\u001b[39;49m\u001b[43mdtype_backend\u001b[49m\u001b[43m,\u001b[49m\n\u001b[1;32m   1149\u001b[0m \u001b[43m\u001b[49m\u001b[43m)\u001b[49m\n",
      "File \u001b[0;32m/nix/store/pv7d7jrpr3d0whjb5ywwwg1bhwav57zv-python3-3.11.6-env/lib/python3.11/site-packages/pandas/io/xml.py:830\u001b[0m, in \u001b[0;36m_parse\u001b[0;34m(path_or_buffer, xpath, namespaces, elems_only, attrs_only, names, dtype, converters, parse_dates, encoding, parser, stylesheet, iterparse, compression, storage_options, dtype_backend, **kwargs)\u001b[0m\n\u001b[1;32m    813\u001b[0m         p \u001b[38;5;241m=\u001b[39m _LxmlFrameParser(\n\u001b[1;32m    814\u001b[0m             path_or_buffer,\n\u001b[1;32m    815\u001b[0m             xpath,\n\u001b[0;32m   (...)\u001b[0m\n\u001b[1;32m    827\u001b[0m             storage_options,\n\u001b[1;32m    828\u001b[0m         )\n\u001b[1;32m    829\u001b[0m     \u001b[38;5;28;01melse\u001b[39;00m:\n\u001b[0;32m--> 830\u001b[0m         \u001b[38;5;28;01mraise\u001b[39;00m \u001b[38;5;167;01mImportError\u001b[39;00m(\u001b[38;5;124m\"\u001b[39m\u001b[38;5;124mlxml not found, please install or use the etree parser.\u001b[39m\u001b[38;5;124m\"\u001b[39m)\n\u001b[1;32m    832\u001b[0m \u001b[38;5;28;01melif\u001b[39;00m parser \u001b[38;5;241m==\u001b[39m \u001b[38;5;124m\"\u001b[39m\u001b[38;5;124metree\u001b[39m\u001b[38;5;124m\"\u001b[39m:\n\u001b[1;32m    833\u001b[0m     p \u001b[38;5;241m=\u001b[39m _EtreeFrameParser(\n\u001b[1;32m    834\u001b[0m         path_or_buffer,\n\u001b[1;32m    835\u001b[0m         xpath,\n\u001b[0;32m   (...)\u001b[0m\n\u001b[1;32m    847\u001b[0m         storage_options,\n\u001b[1;32m    848\u001b[0m     )\n",
      "\u001b[0;31mImportError\u001b[0m: lxml not found, please install or use the etree parser."
     ]
    }
   ],
   "source": [
    "# COUNTRY\n",
    "with zipfile2.ZipFile(\"./datasets/global_gdp\", 'r') as zip_ref:\n",
    "    zip_ref.extractall(\"./datasets\")\n",
    "\n",
    "df = pd.read_xml(\"./datasets/global_gdp.xml\")"
   ]
  },
  {
   "cell_type": "code",
   "execution_count": 6,
   "id": "438600fa-a2ed-43c9-b67f-1056311b1d12",
   "metadata": {},
   "outputs": [],
   "source": [
    "# INDUSTRY"
   ]
  },
  {
   "cell_type": "code",
   "execution_count": 7,
   "id": "807a87e4-5585-4ca1-97b1-9104cb147204",
   "metadata": {},
   "outputs": [],
   "source": [
    "# COMPANY"
   ]
  },
  {
   "cell_type": "code",
   "execution_count": 8,
   "id": "2001db1c-2403-4bb9-b375-09c0e0bc235c",
   "metadata": {},
   "outputs": [],
   "source": [
    "# PRICE"
   ]
  },
  {
   "cell_type": "code",
   "execution_count": null,
   "id": "fc0096ef-a878-4009-b6b4-32dafafc9e86",
   "metadata": {},
   "outputs": [],
   "source": []
  }
 ],
 "metadata": {
  "kernelspec": {
   "display_name": "Python 3 (ipykernel)",
   "language": "python",
   "name": "python3"
  },
  "language_info": {
   "codemirror_mode": {
    "name": "ipython",
    "version": 3
   },
   "file_extension": ".py",
   "mimetype": "text/x-python",
   "name": "python",
   "nbconvert_exporter": "python",
   "pygments_lexer": "ipython3",
   "version": "3.11.6"
  }
 },
 "nbformat": 4,
 "nbformat_minor": 5
}
