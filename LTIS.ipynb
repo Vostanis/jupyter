{
 "cells": [
  {
   "cell_type": "code",
   "execution_count": 38,
   "id": "7c912098-fc08-4268-9b7d-edd3e43ed0cc",
   "metadata": {},
   "outputs": [],
   "source": [
    "# Long Term Investment Strategy\n",
    "\n",
    "# METHODOLOGY\n",
    "# ===========\n",
    "# Guarantee highest probability of success by identifying most likely winners of each tiers/parameters.\n",
    "# These parameters are:\n",
    "# 1. Country\n",
    "# 2. Industry\n",
    "# 3. Company\n",
    "# 4. Price\n",
    "#\n",
    "# Starting at 1, select 1-5 winners of each category; documenting each step.\n",
    "\n",
    "# EXPECTED BREAKDOWNS\n",
    "# ===================\n",
    "# 1. COUNTRY: (GDP, GDP %, Natural Resources, Politcal Policy)\n",
    "# 2. INDUSTRY: (Highest earners, Strategy of highest earners)\n",
    "# 3. COMPANY: (Ownership, Earnings, EPS, Margin, Debt, Popularity)\n",
    "# 4. PRICE: (Trading Patterns, Volume, Moving Average (50/200), Parabolic SAR, MACD)\n",
    "\n",
    "# DATA SOURCES\n",
    "# ============\n",
    "# The World Bank [1, 2]\n",
    "# Yahoo Finance [2, 3]\n",
    "# Simply Wall St [2, 3]\n",
    "# IG [4]\n",
    "# TradingView [4]\n",
    "\n",
    "# STOCKS TO REVIEW\n",
    "# ===================\n",
    "# SNS - Son La Sugar; Viet Nam\n",
    "# ATEA - Atea; Norway\n",
    "# CAP - Yen Bai Agro-Forestry; Viet Nam\n",
    "# DCG - Duc Giang Chemicals; Viet Nam\n",
    "# FPT - FPT; Viet Nam\n",
    "# DNP - Dino Polska; Poland\n",
    "# PPA - Piraeus Port Authority; Greece\n",
    "# NELY - Pelayaran Nelly Dwi Putri; Indonesia\n",
    "\n",
    "# PACKAGES\n",
    "# ========\n",
    "import pandas as pd\n",
    "import matplotlib.pyplot as plt\n",
    "import seaborn as sns\n",
    "import quandl as ql\n",
    "import zipfile2"
   ]
  },
  {
   "cell_type": "code",
   "execution_count": 33,
   "id": "bf9de99b-53c1-4bc3-a9b1-70413db12764",
   "metadata": {},
   "outputs": [
    {
     "data": {
      "text/plain": [
       "Index(['Country Code', 'Region', 'IncomeGroup', 'SpecialNotes', 'TableName',\n",
       "       'Unnamed: 5'],\n",
       "      dtype='object')"
      ]
     },
     "execution_count": 33,
     "metadata": {},
     "output_type": "execute_result"
    }
   ],
   "source": [
    "# COUNTRY\n",
    "with zipfile2.ZipFile(\"./datasets/gdp_csv.zip\", 'r') as zip_ref:\n",
    "    zip_ref.extractall(\"./datasets\")\n",
    "\n",
    "ind_df = pd.read_csv(\"./datasets/Metadata_Indicator_API_NY.GDP.MKTP.KD.ZG_DS2_en_csv_v2_6298243.csv\")\n",
    "ind_df.head()\n",
    "ind_df.columns\n",
    "\n",
    "cty_df = pd.read_csv(\"./datasets/Metadata_Country_API_NY.GDP.MKTP.KD.ZG_DS2_en_csv_v2_6298243.csv\")\n",
    "cty_df.head()\n",
    "cty_df.columns"
   ]
  },
  {
   "cell_type": "code",
   "execution_count": 34,
   "id": "438600fa-a2ed-43c9-b67f-1056311b1d12",
   "metadata": {},
   "outputs": [],
   "source": [
    "# INDUSTRY"
   ]
  },
  {
   "cell_type": "code",
   "execution_count": 1,
   "id": "807a87e4-5585-4ca1-97b1-9104cb147204",
   "metadata": {},
   "outputs": [],
   "source": [
    "# COMPANY\n",
    "ql.ApiConfig.api_key = "
   ]
  },
  {
   "cell_type": "code",
   "execution_count": 36,
   "id": "2001db1c-2403-4bb9-b375-09c0e0bc235c",
   "metadata": {},
   "outputs": [],
   "source": [
    "# PRICE"
   ]
  },
  {
   "cell_type": "code",
   "execution_count": null,
   "id": "fc0096ef-a878-4009-b6b4-32dafafc9e86",
   "metadata": {},
   "outputs": [],
   "source": []
  },
  {
   "cell_type": "code",
   "execution_count": null,
   "id": "3c1cd29c-2d52-4c3d-9682-3dbd799b5b83",
   "metadata": {},
   "outputs": [],
   "source": []
  },
  {
   "cell_type": "code",
   "execution_count": null,
   "id": "497592b0-0761-4270-b67c-b6de96b65877",
   "metadata": {},
   "outputs": [],
   "source": []
  }
 ],
 "metadata": {
  "kernelspec": {
   "display_name": "Python 3 (ipykernel)",
   "language": "python",
   "name": "python3"
  },
  "language_info": {
   "codemirror_mode": {
    "name": "ipython",
    "version": 3
   },
   "file_extension": ".py",
   "mimetype": "text/x-python",
   "name": "python",
   "nbconvert_exporter": "python",
   "pygments_lexer": "ipython3",
   "version": "3.11.6"
  }
 },
 "nbformat": 4,
 "nbformat_minor": 5
}
