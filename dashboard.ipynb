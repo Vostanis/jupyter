{
 "cells": [
  {
   "cell_type": "markdown",
   "id": "1c98a8ef-dd12-4e0e-8565-8311e0d93bff",
   "metadata": {},
   "source": [
    "# "
   ]
  },
  {
   "cell_type": "code",
   "execution_count": 3,
   "id": "4c7600b0-ca17-4afe-a50f-394a6d4cb0ce",
   "metadata": {},
   "outputs": [
    {
     "name": "stdout",
     "output_type": "stream",
     "text": [
      "[*********************100%%**********************]  7 of 7 completed\n",
      "[*********************100%%**********************]  3 of 3 completed\n"
     ]
    }
   ],
   "source": [
    "import pandas as pd\n",
    "import numpy as np\n",
    "import matplotlib.pyplot as plt\n",
    "import seaborn as sns\n",
    "import zipfile2\n",
    "import yfinance as yf\n",
    "\n",
    "plt.style.use('ggplot')\n",
    "\n",
    "big_7 = [\"NVDA\", \"TSLA\", \"GOOG\", \"MSFT\", \"META\", \"AMZN\", \"AAPL\"]\n",
    "portfolio = [\"NVDA\", \"GCT\", \"RYAAY\"]\n",
    "\n",
    "# price action datasets\n",
    "b7p = yf.download(big_7, start = \"2019-01-01\", interval = \"1wk\", group_by = \"tickers\") # big 7\n",
    "pp = yf.download(portfolio, start = \"2019-01-01\", interval = \"1wk\", group_by = \"tickers\") # portfolio"
   ]
  },
  {
   "cell_type": "code",
   "execution_count": 12,
   "id": "63bc147e-13c5-4ed8-a761-d8cec0f7eaf7",
   "metadata": {},
   "outputs": [],
   "source": [
    "def eps(tickers):\n",
    "    dfs = []\n",
    "    for ticker in tickers:\n",
    "        company = yf.Ticker(ticker)\n",
    "        df = pd.DataFrame(company.quarterly_income_stmt.T[\"Basic EPS\"])\n",
    "        df.index.name = 'date'\n",
    "        pd.to_datetime(df.index)\n",
    "        df['Ticker'] = company.ticker\n",
    "        dfs.append(df)\n",
    "    \n",
    "    dfs = pd.concat(dfs)\n",
    "    df.from_product(\n",
    "    return dfs"
   ]
  },
  {
   "cell_type": "code",
   "execution_count": 13,
   "id": "f3acefef-c1e6-4207-919a-2cdab9bf0cbe",
   "metadata": {},
   "outputs": [
    {
     "data": {
      "text/plain": [
       "[           Basic EPS Ticker\n",
       " date                       \n",
       " 2023-10-31      3.75   NVDA\n",
       " 2023-07-31       2.5   NVDA\n",
       " 2023-04-30      0.83   NVDA\n",
       " 2023-01-31      0.57   NVDA,\n",
       "            Basic EPS Ticker\n",
       " date                       \n",
       " 2023-09-30      0.59    GCT\n",
       " 2023-06-30      0.45    GCT\n",
       " 2023-03-31      0.39    GCT\n",
       " 2022-12-31      0.31    GCT,\n",
       "            Basic EPS Ticker\n",
       " date                       \n",
       " 2023-12-31     0.065  RYAAY\n",
       " 2023-09-30     6.652  RYAAY\n",
       " 2023-03-31       NaN  RYAAY\n",
       " 2022-12-31     0.888  RYAAY]"
      ]
     },
     "execution_count": 13,
     "metadata": {},
     "output_type": "execute_result"
    }
   ],
   "source": [
    "example = eps(portfolio)\n",
    "example\n",
    "\n",
    "# sns.lineplot(data=example, x=example.index, y='Basic EPS')"
   ]
  },
  {
   "cell_type": "code",
   "execution_count": 69,
   "id": "3c438cab-8360-4d93-8a2a-a5b8104bb6dc",
   "metadata": {},
   "outputs": [
    {
     "data": {
      "text/plain": [
       "2023-10-31    3.75\n",
       "2023-07-31     2.5\n",
       "2023-04-30    0.83\n",
       "2023-01-31    0.57\n",
       "Name: Basic EPS, dtype: object"
      ]
     },
     "execution_count": 69,
     "metadata": {},
     "output_type": "execute_result"
    }
   ],
   "source": [
    "nvda = yf.Ticker(\"NVDA\").quarterly_income_stmt.T['Basic EPS']\n",
    "nvda"
   ]
  },
  {
   "cell_type": "code",
   "execution_count": null,
   "id": "f381c7c7-c682-4ec1-975e-fc38a30f5f1f",
   "metadata": {},
   "outputs": [],
   "source": []
  }
 ],
 "metadata": {
  "kernelspec": {
   "display_name": "Python 3 (ipykernel)",
   "language": "python",
   "name": "python3"
  },
  "language_info": {
   "codemirror_mode": {
    "name": "ipython",
    "version": 3
   },
   "file_extension": ".py",
   "mimetype": "text/x-python",
   "name": "python",
   "nbconvert_exporter": "python",
   "pygments_lexer": "ipython3",
   "version": "3.11.6"
  }
 },
 "nbformat": 4,
 "nbformat_minor": 5
}
