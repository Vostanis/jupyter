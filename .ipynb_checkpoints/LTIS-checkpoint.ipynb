{
 "cells": [
  {
   "cell_type": "code",
   "execution_count": null,
   "id": "7c912098-fc08-4268-9b7d-edd3e43ed0cc",
   "metadata": {},
   "outputs": [],
   "source": [
    "# Long Term Investment Strategy\n",
    "\n",
    "# METHODOLOGY\n",
    "# ===========\n",
    "# Guarantee highest probability of success by identifying most likely winners of each tiers/parameters.\n",
    "# These parameters are:\n",
    "# 1. Country\n",
    "# 2. Industry\n",
    "# 3. Company\n",
    "# 4. Price\n",
    "#\n",
    "# Starting at 1, select 1-5 winners of each category; documenting each step.\n",
    "\n",
    "# EXPECTED BREAKDOWNS\n",
    "# ===================\n",
    "# 1. COUNTRY: (GDP, GDP %, Natural Resources, Politcal Policy)\n",
    "# 2. INDUSTRY: (Highest earners, Strategy of highest earners)\n",
    "# 3. COMPANY: (Ownership, Earnings, EPS, Margin, Debt, Popularity)\n",
    "# 4. PRICE: (Trading Patterns, Volume, Moving Average (50/200), Parabolic SAR, MACD)\n",
    "\n",
    "# DATA SOURCES\n",
    "# ============\n",
    "# The World Bank (https://data.worldbank.org/?most_recent_value_desc=true&type=points) [1, 2]\n",
    "# Yahoo Finance [2, 3]\n",
    "# Simply Wall St [2, 3]\n",
    "# IG [4]\n",
    "# TradingView [4]"
   ]
  },
  {
   "cell_type": "code",
   "execution_count": 1,
   "id": "14b65f2d-9c09-4c79-894b-60f3485f3a99",
   "metadata": {},
   "outputs": [],
   "source": [
    "import pandas as pd"
   ]
  },
  {
   "cell_type": "code",
   "execution_count": null,
   "id": "ca4459d6-1248-4fba-bbc4-99f90a64de5a",
   "metadata": {},
   "outputs": [],
   "source": []
  }
 ],
 "metadata": {
  "kernelspec": {
   "display_name": "Python 3 (ipykernel)",
   "language": "python",
   "name": "python3"
  },
  "language_info": {
   "codemirror_mode": {
    "name": "ipython",
    "version": 3
   },
   "file_extension": ".py",
   "mimetype": "text/x-python",
   "name": "python",
   "nbconvert_exporter": "python",
   "pygments_lexer": "ipython3",
   "version": "3.11.6"
  }
 },
 "nbformat": 4,
 "nbformat_minor": 5
}
