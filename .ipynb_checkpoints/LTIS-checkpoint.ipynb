{
 "cells": [
  {
   "cell_type": "code",
   "execution_count": 4,
   "id": "7c912098-fc08-4268-9b7d-edd3e43ed0cc",
   "metadata": {},
   "outputs": [],
   "source": [
    "# Long Term Investment Strategy\n",
    "\n",
    "# METHODOLOGY\n",
    "# ===========\n",
    "# Guarantee highest probability of success by identifying most likely winners of each tiers/parameters.\n",
    "# These parameters are:\n",
    "# 1. Country\n",
    "# 2. Industry\n",
    "# 3. Company\n",
    "# 4. Price\n",
    "#\n",
    "# Starting at 1, select 1-5 winners of each category; documenting each step.\n",
    "\n",
    "# EXPECTED BREAKDOWNS\n",
    "# ===================\n",
    "# 1. COUNTRY: (GDP, GDP %, Natural Resources, Politcal Policy)\n",
    "# 2. INDUSTRY: (Highest earners, Strategy of highest earners)\n",
    "# 3. COMPANY: (Ownership, Earnings, EPS, Margin, Debt, Popularity)\n",
    "# 4. PRICE: (Trading Patterns, Volume, Moving Average (50/200), Parabolic SAR, MACD)\n",
    "\n",
    "# DATA SOURCES\n",
    "# ============\n",
    "# The World Bank (https://data.worldbank.org/?most_recent_value_desc=true&type=points) [1, 2]\n",
    "# Yahoo Finance [2, 3]\n",
    "# Simply Wall St [2, 3]\n",
    "# IG [4]\n",
    "# TradingView [4]\n",
    "\n",
    "# PACKAGES\n",
    "# ========\n",
    "import pandas as pd\n",
    "import matplotlib as mtp\n",
    "import seaborn as sb\n",
    "import quandl as ql"
   ]
  },
  {
   "cell_type": "code",
   "execution_count": 5,
   "id": "ca4459d6-1248-4fba-bbc4-99f90a64de5a",
   "metadata": {},
   "outputs": [],
   "source": [
    "# COUNTRY"
   ]
  },
  {
   "cell_type": "code",
   "execution_count": 6,
   "id": "438600fa-a2ed-43c9-b67f-1056311b1d12",
   "metadata": {},
   "outputs": [],
   "source": [
    "# INDUSTRY"
   ]
  },
  {
   "cell_type": "code",
   "execution_count": 7,
   "id": "807a87e4-5585-4ca1-97b1-9104cb147204",
   "metadata": {},
   "outputs": [],
   "source": [
    "# COMPANY"
   ]
  },
  {
   "cell_type": "code",
   "execution_count": 8,
   "id": "2001db1c-2403-4bb9-b375-09c0e0bc235c",
   "metadata": {},
   "outputs": [],
   "source": [
    "# PRICE"
   ]
  },
  {
   "cell_type": "code",
   "execution_count": null,
   "id": "fc0096ef-a878-4009-b6b4-32dafafc9e86",
   "metadata": {},
   "outputs": [],
   "source": []
  }
 ],
 "metadata": {
  "kernelspec": {
   "display_name": "Python 3 (ipykernel)",
   "language": "python",
   "name": "python3"
  },
  "language_info": {
   "codemirror_mode": {
    "name": "ipython",
    "version": 3
   },
   "file_extension": ".py",
   "mimetype": "text/x-python",
   "name": "python",
   "nbconvert_exporter": "python",
   "pygments_lexer": "ipython3",
   "version": "3.11.6"
  }
 },
 "nbformat": 4,
 "nbformat_minor": 5
}
