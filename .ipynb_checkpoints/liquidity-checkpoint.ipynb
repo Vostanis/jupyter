{
 "cells": [
  {
   "cell_type": "code",
   "execution_count": 3,
   "id": "cf8e850a-bf94-45bc-bf65-55e029dcdb90",
   "metadata": {},
   "outputs": [],
   "source": [
    "import pandas as pd\n",
    "import matplotlib.pyplot as plt\n",
    "import seaborn as sns\n",
    "import quandl\n",
    "import zipfile2\n",
    "import nasdaqdatalink as ndl\n",
    "\n",
    "from vault import NDL_KEY"
   ]
  },
  {
   "cell_type": "code",
   "execution_count": 6,
   "id": "2074cda0-7965-42b5-9349-c62be53b0c0d",
   "metadata": {},
   "outputs": [
    {
     "data": {
      "text/plain": [
       "Index(['m_ticker', 'ticker', 'comp_name', 'comp_name_2', 'exchange',\n",
       "       'currency_code', 'per_end_date', 'per_type', 'per_code',\n",
       "       'per_fisc_year',\n",
       "       ...\n",
       "       'stock_based_compsn_qd', 'cash_flow_oper_activity_qd',\n",
       "       'net_change_prop_plant_equip_qd', 'comm_stock_div_paid_qd',\n",
       "       'pref_stock_div_paid_qd', 'tot_comm_pref_stock_div_qd',\n",
       "       'wavg_shares_out', 'wavg_shares_out_diluted', 'eps_basic_net',\n",
       "       'eps_diluted_net'],\n",
       "      dtype='object', length=249)"
      ]
     },
     "execution_count": 6,
     "metadata": {},
     "output_type": "execute_result"
    }
   ],
   "source": [
    "ndl.ApiConfig.api_key = NDL_KEY\n",
    "mydata = ndl.get_table('ZACKS/FC', ticker='AAPL')\n",
    "mydata.columns"
   ]
  },
  {
   "cell_type": "code",
   "execution_count": null,
   "id": "472cc87d-2aab-48f5-8a31-82b0b8314a63",
   "metadata": {},
   "outputs": [],
   "source": []
  }
 ],
 "metadata": {
  "kernelspec": {
   "display_name": "Python 3 (ipykernel)",
   "language": "python",
   "name": "python3"
  },
  "language_info": {
   "codemirror_mode": {
    "name": "ipython",
    "version": 3
   },
   "file_extension": ".py",
   "mimetype": "text/x-python",
   "name": "python",
   "nbconvert_exporter": "python",
   "pygments_lexer": "ipython3",
   "version": "3.11.6"
  }
 },
 "nbformat": 4,
 "nbformat_minor": 5
}
