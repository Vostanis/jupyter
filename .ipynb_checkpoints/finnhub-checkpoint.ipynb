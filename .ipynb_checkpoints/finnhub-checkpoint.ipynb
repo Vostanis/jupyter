{
 "cells": [
  {
   "cell_type": "code",
   "execution_count": 18,
   "id": "fdf81b86-792d-4857-b112-ea63f59d5307",
   "metadata": {},
   "outputs": [],
   "source": [
    "import pandas as pd\n",
    "import requests as r\n",
    "from dash import Dash, dash_table\n",
    "FHB_KEY = \"ck5v6l9r01qls0umdfugck5v6l9r01qls0umdfv0\"\n",
    "\n",
    "BASE = \"https://finnhub.io/api/v1\"\n",
    "HDRS = {\"X-Finnhub-Token\":FHB_KEY}\n",
    "\n",
    "def GET(endpoint):\n",
    "    return r.get(BASE + endpoint, headers = HDRS)"
   ]
  },
  {
   "cell_type": "code",
   "execution_count": 23,
   "id": "d01749b4-e5fe-41a9-9691-37dce41777f1",
   "metadata": {},
   "outputs": [
    {
     "name": "stdout",
     "output_type": "stream",
     "text": [
      "Empty DataFrame\n",
      "Columns: []\n",
      "Index: []\n"
     ]
    }
   ],
   "source": [
    "# mechanic\n",
    "def json_nest(df_col):\n",
    "    dfs = []\n",
    "    for entry in df_col:\n",
    "        try:\n",
    "            df = pd.DataFrame(entry)\n",
    "        except ValueError:\n",
    "            df = pd.DataFrame(entry, index=[0])\n",
    "        dfs.append(df)\n",
    "\n",
    "    try:\n",
    "        df = pd.concat(dfs, ignore_index=True)\n",
    "    except ValueError:\n",
    "        return pd.DataFrame()\n",
    "    return df\n",
    "\n",
    "# datasets\n",
    "def search_ticker(ticker):\n",
    "    rsp = GET(f\"/search?q={ticker}\")\n",
    "    df = pd.DataFrame(rsp.json()['result'])\n",
    "    return df\n",
    "\n",
    "def sec_filings(ticker):\n",
    "    rsp = GET(f\"/stock/filings?symbol={ticker}\")\n",
    "    df = pd.DataFrame(rsp.json())\n",
    "    return df\n",
    "\n",
    "def analyst_recommendations(ticker):\n",
    "    rsp = GET(f\"/stock/recommendation?symbol={ticker}\")\n",
    "    df = pd.DataFrame(rsp.json())\n",
    "    return df\n",
    "\n",
    "def eps_surprises(ticker):  \n",
    "    rsp = GET(f\"/stock/earnings?symbol={ticker}\")\n",
    "    df = pd.DataFrame(rsp.json())\n",
    "    return df\n",
    "\n",
    "def earnings_calendar(ticker): \n",
    "    rsp = GET(f\"/calendar/earnings?symbol={ticker}\")\n",
    "    df = pd.DataFrame(rsp.json()[\"earningsCalendar\"])\n",
    "    return df\n",
    "\n",
    "def patents(ticker, date):\n",
    "    rsp = GET(f\"/stock/uspto-patent?symbol={ticker}&from={date}\")\n",
    "    df = pd.DataFrame(rsp.json())\n",
    "    df = json_nest(df.data)\n",
    "    return df\n",
    "\n",
    "def visa_applications(ticker, date):\n",
    "    rsp = GET(f\"/stock/visa-application?symbol={ticker}&from={date}\")\n",
    "    df = pd.DataFrame(rsp.json())\n",
    "    df = pd.DataFrame(df.data)\n",
    "    df = json_nest(df.data)\n",
    "    print(df)\n",
    "\n",
    "def senate_lobbying(ticker, date):\n",
    "    rsp = GET(f\"/stock/lobbying?symbol={ticker}&from={date}\")\n",
    "    df = pd.DataFrame(rsp.json())\n",
    "    # df = pd.DataFrame(df)\n",
    "    df = json_nest(df.data)\n",
    "    print(df)\n",
    "\n",
    "# def usa_spending(ticker):\n",
    "    \n",
    "\n",
    "# JSON ISSUES (nested json)\n",
    "#############\n",
    "\n",
    "# visa applications\n",
    "# rsp = GET(\"/stock/visa-application?symbol=AAPL&from=2021-01-01&to=2021-12-31\")\n",
    "# df = pd.DataFrame(rsp.json())\n",
    "# df = pd.DataFrame(df.data)\n",
    "# df = json_nest(df.data)\n",
    "# print(df)\n",
    "\n",
    "# df = patents(\"NVDA\", \"2023-01-01\")\n",
    "# print(df)\n",
    "\n",
    "# senate lobbying\n",
    "rsp = GET(\"/stock/lobbying?symbol=NVDA&from=2021-01-01&to=2022-12-31\")\n",
    "df = pd.DataFrame(rsp.json())\n",
    "# df = pd.DataFrame(df)\n",
    "df = json_nest(df.data)\n",
    "print(df)\n",
    "\n",
    "# usa spending\n",
    "# rsp = GET(\"/stock/usa-spending?symbol=BA&from=2021-01-01&to=2022-12-31\")\n",
    "# df = pd.DataFrame(rsp.json())\n",
    "# # df = pd.DataFrame(df.data)\n",
    "# df = json_nest(df.data)\n",
    "# print(df)\n",
    "\n",
    "\n",
    "# rsp = GET(\"/stock/metric?symbol=AAPL&metric=all&from=2019-01-01&to=2024-02-31\")\n",
    "# rsp = GET(\"/stock/financials-reported?symbol=AAPL&freq=quarterly\")\n",
    "# df = pd.DataFrame(rsp.json())\n",
    "# # df = df.data\n",
    "# df = json_nest(df.data)\n",
    "# df = json_nest(df.report)\n",
    "# df.concept\n",
    "# for i in df:\n",
    "#     print(df[\"concept\"])"
   ]
  },
  {
   "cell_type": "code",
   "execution_count": 39,
   "id": "9a9aed19-29a8-48a7-80ca-b3fac20750f4",
   "metadata": {},
   "outputs": [
    {
     "data": {
      "text/html": [
       "\n",
       "        <iframe\n",
       "            width=\"100%\"\n",
       "            height=\"650\"\n",
       "            src=\"http://127.0.0.1:8050/\"\n",
       "            frameborder=\"0\"\n",
       "            allowfullscreen\n",
       "            \n",
       "        ></iframe>\n",
       "        "
      ],
      "text/plain": [
       "<IPython.lib.display.IFrame at 0x7fff6125f9d0>"
      ]
     },
     "metadata": {},
     "output_type": "display_data"
    }
   ],
   "source": [
    "# rsp = GET(\"/stock/lobbying?symbol=MSFT&from=2021-01-01&to=2022-12-31\")\n",
    "# df = pd.DataFrame(rsp.json())\n",
    "# # df = pd.DataFrame(df)\n",
    "# df = json_nest(df.data)\n",
    "\n",
    "df = patents(\"NVDA\", \"2020-01-01\").sort_values(by=['filingDate'], ascending=False)\n",
    "df['filingDate'] = pd.to_datetime(df['filingDate']).dt.date\n",
    "\n",
    "# df\n",
    "app = Dash(__name__)\n",
    "\n",
    "app.layout = dash_table.DataTable(df.to_dict('records'), [{\"name\": i, \"id\": i} for i in df.columns])\n",
    "\n",
    "if __name__ == '__main__':\n",
    "    app.run(debug=True)"
   ]
  },
  {
   "cell_type": "code",
   "execution_count": null,
   "id": "6fdefaf4-da33-4813-a844-2785bb5a0780",
   "metadata": {},
   "outputs": [],
   "source": []
  }
 ],
 "metadata": {
  "kernelspec": {
   "display_name": "Python 3 (ipykernel)",
   "language": "python",
   "name": "python3"
  },
  "language_info": {
   "codemirror_mode": {
    "name": "ipython",
    "version": 3
   },
   "file_extension": ".py",
   "mimetype": "text/x-python",
   "name": "python",
   "nbconvert_exporter": "python",
   "pygments_lexer": "ipython3",
   "version": "3.11.6"
  }
 },
 "nbformat": 4,
 "nbformat_minor": 5
}
